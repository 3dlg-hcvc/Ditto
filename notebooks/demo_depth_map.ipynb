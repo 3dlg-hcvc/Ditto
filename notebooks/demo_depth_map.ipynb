{
 "cells": [
  {
   "cell_type": "code",
   "execution_count": 20,
   "metadata": {
    "ExecuteTime": {
     "end_time": "2022-03-17T01:10:20.865348Z",
     "start_time": "2022-03-17T01:10:18.597524Z"
    }
   },
   "outputs": [],
   "source": [
    "import os, sys\n",
    "sys.path.append('../')\n",
    "os.environ[\"PYOPENGL_PLATFORM\"] = \"egl\"\n",
    "\n",
    "import numpy as np\n",
    "import json\n",
    "import math\n",
    "\n",
    "import torch\n",
    "\n",
    "import open3d as o3d\n",
    "import json\n",
    "import numpy as np\n",
    "from PIL import Image\n",
    "import matplotlib.pyplot as plt\n",
    "from mpl_toolkits.mplot3d import Axes3D\n",
    "%matplotlib inline"
   ]
  },
  {
   "cell_type": "code",
   "execution_count": 22,
   "metadata": {
    "ExecuteTime": {
     "end_time": "2022-03-17T01:10:20.874077Z",
     "start_time": "2022-03-17T01:10:20.866707Z"
    },
    "code_folding": [
     0
    ]
   },
   "outputs": [],
   "source": [
    "def plot_3d_point_cloud(x,\n",
    "                        y,\n",
    "                        z,\n",
    "                        show=True,\n",
    "                        show_axis=True,\n",
    "                        in_u_sphere=False,\n",
    "                        marker='.',\n",
    "                        s=8,\n",
    "                        alpha=.8,\n",
    "                        figsize=(5, 5),\n",
    "                        elev=10,\n",
    "                        azim=240,\n",
    "                        axis=None,\n",
    "                        title=None,\n",
    "                        lim=None,\n",
    "                        *args,\n",
    "                        **kwargs):\n",
    "\n",
    "    if axis is None:\n",
    "        fig = plt.figure(figsize=figsize)\n",
    "        ax = fig.add_subplot(111, projection='3d')\n",
    "    else:\n",
    "        ax = axis\n",
    "        fig = axis\n",
    "\n",
    "    if title is not None:\n",
    "        plt.title(title)\n",
    "\n",
    "    sc = ax.scatter(x, y, z, marker=marker, s=s, alpha=alpha, *args, **kwargs)\n",
    "    ax.view_init(elev=elev, azim=azim)\n",
    "\n",
    "    if lim:\n",
    "        ax.set_xlim3d(*lim[0])\n",
    "        ax.set_ylim3d(*lim[1])\n",
    "        ax.set_zlim3d(*lim[2])\n",
    "    elif in_u_sphere:\n",
    "        ax.set_xlim3d(-0.5, 0.5)\n",
    "        ax.set_ylim3d(-0.5, 0.5)\n",
    "        ax.set_zlim3d(-0.5, 0.5)\n",
    "    else:\n",
    "        lim = (min(np.min(x), np.min(y),\n",
    "                   np.min(z)), max(np.max(x), np.max(y), np.max(z)))\n",
    "        ax.set_xlim(1.3 * lim[0], 1.3 * lim[1])\n",
    "        ax.set_ylim(1.3 * lim[0], 1.3 * lim[1])\n",
    "        ax.set_zlim(1.3 * lim[0], 1.3 * lim[1])\n",
    "        plt.tight_layout()\n",
    "\n",
    "    if not show_axis:\n",
    "        plt.axis('off')\n",
    "\n",
    "    if show:\n",
    "        plt.show()\n",
    "\n",
    "    return fig"
   ]
  },
  {
   "cell_type": "code",
   "execution_count": 23,
   "metadata": {
    "ExecuteTime": {
     "end_time": "2022-03-17T01:10:20.884899Z",
     "start_time": "2022-03-17T01:10:20.875690Z"
    }
   },
   "outputs": [],
   "source": [
    "def read_depth(depth_path):\n",
    "    depth_img = np.array(Image.open(depth_path))\n",
    "    depth_img = depth_img.astype(np.float32) * 0.001\n",
    "    \n",
    "    \n",
    "    rgbd = o3d.geometry.RGBDImage.create_from_color_and_depth(\n",
    "        o3d.geometry.Image(np.empty_like(depth_img)),\n",
    "        o3d.geometry.Image(depth_img),\n",
    "        depth_scale=1.0,\n",
    "        depth_trunc=0.7,\n",
    "        convert_rgb_to_intensity=False,\n",
    "    )\n",
    "    return rgbd\n",
    "\n",
    "def sum_downsample_points(point_list, voxel_size=0.01, nb_neighbors=20, std_ratio=2.0):\n",
    "    points = np.concatenate([np.asarray(x.points) for x in point_list], axis=0)\n",
    "    pcd = o3d.geometry.PointCloud()\n",
    "    pcd.points = o3d.utility.Vector3dVector(points)\n",
    "    pcd = pcd.voxel_down_sample(voxel_size=voxel_size)\n",
    "    pcd, _ = pcd.remove_statistical_outlier(nb_neighbors=nb_neighbors, std_ratio=std_ratio)\n",
    "    return pcd"
   ]
  },
  {
   "cell_type": "code",
   "execution_count": 24,
   "metadata": {
    "ExecuteTime": {
     "end_time": "2022-03-17T01:10:20.902631Z",
     "start_time": "2022-03-17T01:10:20.886038Z"
    }
   },
   "outputs": [],
   "source": [
    "def normalize(tensor: torch.Tensor, dim: int) -> torch.Tensor:\n",
    "    return tensor / ((tensor ** 2).sum(dim, keepdim=True).sqrt() + 1.0e-5)\n",
    "\n",
    "def vector_to_rotation(vector):\n",
    "    z = np.array(vector)\n",
    "    z = z / np.linalg.norm(z)\n",
    "    x = np.array([1, 0, 0])\n",
    "    x = x - z*(x.dot(z)/z.dot(z))\n",
    "    x = x / np.linalg.norm(x)\n",
    "    y = np.cross(z, x)\n",
    "    return np.c_[x, y, z]\n",
    "\n",
    "def add_r_joint_to_scene(scene,\n",
    "                             axis,\n",
    "                             pivot_point,\n",
    "                             length,\n",
    "                             radius=0.01,\n",
    "                             joint_color=[200, 0, 0, 180],\n",
    "                             recenter=False):\n",
    "    if recenter:\n",
    "        pivot_point = np.cross(axis, np.cross(pivot_point, axis))\n",
    "    rotation_mat = vector_to_rotation(axis)\n",
    "    screw_tran = np.eye(4)\n",
    "    screw_tran[:3, :3] = rotation_mat\n",
    "    screw_tran[:3, 3] = pivot_point\n",
    "    \n",
    "    axis_cylinder = trimesh.creation.cylinder(radius, height=length)\n",
    "    axis_arrow = trimesh.creation.cone(radius * 2, radius * 4)\n",
    "    arrow_trans = np.eye(4)\n",
    "    arrow_trans[2, 3] = length / 2\n",
    "    axis_arrow.apply_transform(arrow_trans)\n",
    "    axis_obj = trimesh.Scene((axis_cylinder, axis_arrow))\n",
    "    screw = as_mesh(axis_obj)\n",
    "    \n",
    "    # screw.apply_translation([0, 0, 0.1])\n",
    "    screw.apply_transform(screw_tran)\n",
    "    screw.visual.face_colors = np.array(joint_color, dtype=np.uint8)\n",
    "    scene.add_geometry(screw)\n",
    "    return screw"
   ]
  },
  {
   "cell_type": "markdown",
   "metadata": {},
   "source": [
    "# load data"
   ]
  },
  {
   "cell_type": "code",
   "execution_count": 25,
   "metadata": {
    "ExecuteTime": {
     "end_time": "2022-03-17T01:10:21.159181Z",
     "start_time": "2022-03-17T01:10:20.904046Z"
    }
   },
   "outputs": [],
   "source": [
    "# read data\n",
    "root = '../data/real_laptop'\n",
    "num_point_per_depth = 2048\n",
    "\n",
    "with open(os.path.join(root, 'camera2base.json')) as f:\n",
    "    transform_dict = json.load(f)\n",
    "\n",
    "src_img_dir = os.path.join(root, 'imgs_1')\n",
    "dst_img_dir = os.path.join(root, 'imgs_2')\n",
    "\n",
    "transforms = transform_dict['camera2base']\n",
    "intrinsics = o3d.camera.PinholeCameraIntrinsic(\n",
    "    width=640,\n",
    "    height=480,\n",
    "    fx=635.647,\n",
    "    fy=635.647,\n",
    "    cx=321.300,\n",
    "    cy=241.436,\n",
    ")\n",
    "# read data\n",
    "src_data = []\n",
    "for idx in range(len(transforms)):\n",
    "    rgbd = read_depth(os.path.join(src_img_dir, f'{idx}_depth.png'))\n",
    "    src_data.append((rgbd, np.array(transforms[idx])))\n",
    "\n",
    "dst_data = []\n",
    "for idx in range(len(transforms)):\n",
    "    rgbd = read_depth(os.path.join(dst_img_dir, f'{idx}_depth.png'))\n",
    "    dst_data.append((rgbd, np.array(transforms[idx])))"
   ]
  },
  {
   "cell_type": "code",
   "execution_count": 26,
   "metadata": {
    "ExecuteTime": {
     "end_time": "2022-03-17T01:10:21.361851Z",
     "start_time": "2022-03-17T01:10:21.160570Z"
    }
   },
   "outputs": [],
   "source": [
    "# crop out the object\n",
    "bbox = o3d.geometry.AxisAlignedBoundingBox(min_bound=(0.3, -0.5, 0.03), max_bound=(0.7, 0.16, 1))\n",
    "\n",
    "# find bounding box of data\n",
    "src_pc_list = []\n",
    "for rgbd, trans in src_data:\n",
    "    pcd = o3d.geometry.PointCloud.create_from_rgbd_image(rgbd, intrinsics)\n",
    "    # pcd, tmp = pcd.remove_statistical_outlier(nb_neighbors=20, std_ratio=0.01)\n",
    "    pcd.transform(trans)\n",
    "    pcd = pcd.crop(bbox)\n",
    "    pc = np.asarray(pcd.points)\n",
    "    pc_idx = np.random.randint(0, pc.shape[0], size=(2048, ))\n",
    "    pc = pc[pc_idx]\n",
    "    src_pc_list.append(pc)\n",
    "src_fused_pc = np.concatenate(src_pc_list, axis=0)\n",
    "center = (np.min(src_fused_pc, 0) + np.max(src_fused_pc, 0)) / 2\n",
    "scale = (np.max(src_fused_pc, 0) - np.min(src_fused_pc, 0)).max()\n",
    "scale *= 1.1\n",
    "\n",
    "# back project and normalize point cloud\n",
    "\n",
    "src_pcd_list = []\n",
    "for rgbd, trans in src_data:\n",
    "    pcd = o3d.geometry.PointCloud.create_from_rgbd_image(rgbd, intrinsics)\n",
    "    pcd.transform(trans)\n",
    "    pcd = pcd.crop(bbox)\n",
    "    center_transform = np.eye(4)\n",
    "    center_transform[:3, 3] = -center\n",
    "    pcd.transform(center_transform)\n",
    "    pcd.scale(1 / scale, np.zeros((3, 1)))\n",
    "    src_pcd_list.append(pcd)\n",
    "    \n",
    "dst_pcd_list = []\n",
    "for rgbd, trans in dst_data:\n",
    "    pcd = o3d.geometry.PointCloud.create_from_rgbd_image(rgbd, intrinsics)\n",
    "    # pcd, tmp = pcd.remove_statistical_outlier(nb_neighbors=20, std_ratio=0.01)\n",
    "    pcd.transform(trans)\n",
    "    pcd = pcd.crop(bbox)\n",
    "    center_transform = np.eye(4)\n",
    "    center_transform[:3, 3] = -center\n",
    "    pcd.transform(center_transform)\n",
    "    pcd.scale(1 / scale, np.zeros((3, 1)))\n",
    "    dst_pcd_list.append(pcd)\n",
    "    \n",
    "src_pcd = sum_downsample_points(src_pcd_list, 0.02, 50, 0.1)\n",
    "dst_pcd = sum_downsample_points(dst_pcd_list, 0.02, 50, 0.1)"
   ]
  },
  {
   "cell_type": "code",
   "execution_count": 28,
   "metadata": {
    "ExecuteTime": {
     "end_time": "2022-03-17T01:10:21.434993Z",
     "start_time": "2022-03-17T01:10:21.363155Z"
    }
   },
   "outputs": [
    {
     "data": {
      "image/png": "[encoded data removed]",
      "text/plain": [
       "<Figure size 432x288 with 2 Axes>"
      ]
     },
     "metadata": {
      "needs_background": "light"
     },
     "output_type": "display_data"
    }
   ],
   "source": [
    "# visualize crop results\n",
    "# tune crop box to get better isolated objects\n",
    "fig = plt.figure()\n",
    "ax = fig.add_subplot(1, 2, 1, projection='3d')\n",
    "plot_3d_point_cloud(*np.asarray(src_pcd.points).T,\n",
    "                    axis=ax,\n",
    "                    azim=30,\n",
    "                    elev=30,\n",
    "                    lim=[(-0.5, 0.5)] * 3, show=False)\n",
    "\n",
    "ax = fig.add_subplot(1, 2, 2, projection='3d')\n",
    "plot_3d_point_cloud(*np.asarray(dst_pcd.points).T,\n",
    "                    axis=ax,\n",
    "                    azim=30,\n",
    "                    elev=30,\n",
    "                    lim=[(-0.5, 0.5)] * 3)\n",
    "\n",
    "plt.show()"
   ]
  },
  {
   "cell_type": "markdown",
   "metadata": {},
   "source": [
    "# Run model"
   ]
  },
  {
   "cell_type": "code",
   "execution_count": 29,
   "metadata": {
    "ExecuteTime": {
     "end_time": "2022-03-17T01:10:21.834409Z",
     "start_time": "2022-03-17T01:10:21.436638Z"
    }
   },
   "outputs": [],
   "source": [
    "import torch\n",
    "from hydra.experimental import initialize, initialize_config_module, initialize_config_dir, compose\n",
    "from omegaconf import OmegaConf\n",
    "import hydra\n",
    "\n",
    "from src.third_party.ConvONets.conv_onet.generation_two_stage import Generator3D\n",
    "from src.utils.misc import sample_point_cloud"
   ]
  },
  {
   "cell_type": "code",
   "execution_count": 30,
   "metadata": {
    "ExecuteTime": {
     "end_time": "2022-03-17T01:10:22.145791Z",
     "start_time": "2022-03-17T01:10:21.838704Z"
    }
   },
   "outputs": [
    {
     "name": "stderr",
     "output_type": "stream",
     "text": [
      "/localhome/hja40/miniconda3/envs/Ditto/lib/python3.8/site-packages/hydra/experimental/initialize.py:35: UserWarning: hydra.experimental.initialize() is no longer experimental. Use hydra.initialize()\n",
      "  warnings.warn(\n",
      "/localhome/hja40/miniconda3/envs/Ditto/lib/python3.8/site-packages/hydra/experimental/compose.py:16: UserWarning: hydra.experimental.compose() is no longer experimental. Use hydra.compose()\n",
      "  warnings.warn(\n"
     ]
    }
   ],
   "source": [
    "with initialize(config_path='../configs/'):\n",
    "    config = compose(\n",
    "        config_name='config',\n",
    "        overrides=[\n",
    "            'experiment=Ditto_s2m.yaml',\n",
    "        ], return_hydra_config=True)\n",
    "config.datamodule.opt.train.data_dir = '../data/'\n",
    "config.datamodule.opt.val.data_dir = '../data/'\n",
    "config.datamodule.opt.test.data_dir = '../data/'"
   ]
  },
  {
   "cell_type": "code",
   "execution_count": 31,
   "metadata": {
    "ExecuteTime": {
     "end_time": "2022-03-17T01:10:25.530752Z",
     "start_time": "2022-03-17T01:10:22.146932Z"
    }
   },
   "outputs": [],
   "source": [
    "model = hydra.utils.instantiate(config.model)\n",
    "ckpt = torch.load('../data/Ditto_s2m.ckpt')\n",
    "device = torch.device(0)\n",
    "model.load_state_dict(ckpt['state_dict'], strict=True)\n",
    "model = model.eval().to(device)"
   ]
  },
  {
   "cell_type": "code",
   "execution_count": 32,
   "metadata": {
    "ExecuteTime": {
     "end_time": "2022-03-17T01:10:25.551329Z",
     "start_time": "2022-03-17T01:10:25.534806Z"
    }
   },
   "outputs": [],
   "source": [
    "generator = Generator3D(\n",
    "    model.model,\n",
    "    device=device,\n",
    "    threshold=0.4,\n",
    "    seg_threshold=0.5,\n",
    "    input_type='pointcloud',\n",
    "    refinement_step=0,\n",
    "    padding=0.1,\n",
    "    resolution0=32\n",
    ")"
   ]
  },
  {
   "cell_type": "code",
   "execution_count": 33,
   "metadata": {
    "ExecuteTime": {
     "end_time": "2022-03-17T01:10:25.567740Z",
     "start_time": "2022-03-17T01:10:25.553360Z"
    }
   },
   "outputs": [],
   "source": [
    "pc_start = np.asarray(src_pcd.points)\n",
    "pc_end = np.asarray(dst_pcd.points)\n",
    "\n",
    "bound_max = np.maximum(pc_start.max(0), pc_end.max(0))\n",
    "bound_min = np.minimum(pc_start.min(0), pc_end.min(0))\n",
    "norm_center = (bound_max + bound_min) / 2\n",
    "norm_scale = (bound_max - bound_min).max() * 1.1\n",
    "pc_start = (pc_start - norm_center) / norm_scale\n",
    "pc_end = (pc_end - norm_center) / norm_scale\n",
    "\n",
    "pc_start, _ = sample_point_cloud(pc_start, 8192)\n",
    "pc_end, _ = sample_point_cloud(pc_end, 8192)\n",
    "sample = {\n",
    "    'pc_start': torch.from_numpy(pc_start).unsqueeze(0).to(device).float(),\n",
    "    'pc_end': torch.from_numpy(pc_end).unsqueeze(0).to(device).float()\n",
    "}"
   ]
  },
  {
   "cell_type": "code",
   "execution_count": 34,
   "metadata": {
    "ExecuteTime": {
     "end_time": "2022-03-17T01:10:30.315208Z",
     "start_time": "2022-03-17T01:10:25.569368Z"
    }
   },
   "outputs": [],
   "source": [
    "mesh_dict, mobile_points_all, c, stats_dict = generator.generate_mesh(sample)\n",
    "with torch.no_grad():\n",
    "    joint_type_logits, joint_param_revolute, joint_param_prismatic = model.model.decode_joints(mobile_points_all, c)"
   ]
  },
  {
   "cell_type": "markdown",
   "metadata": {},
   "source": [
    "# Visualize results"
   ]
  },
  {
   "cell_type": "code",
   "execution_count": 35,
   "metadata": {
    "ExecuteTime": {
     "end_time": "2022-03-17T01:10:31.797089Z",
     "start_time": "2022-03-17T01:10:30.318226Z"
    }
   },
   "outputs": [
    {
     "name": "stderr",
     "output_type": "stream",
     "text": [
      "INFO - 2022-07-11 21:48:54,604 - acceleratesupport - No OpenGL_accelerate module loaded: No module named 'OpenGL_accelerate'\n"
     ]
    }
   ],
   "source": [
    "import trimesh\n",
    "from src.utils.joint_estimation import aggregate_dense_prediction_r\n",
    "\n",
    "from utils3d.mesh.utils import as_mesh\n",
    "from utils3d.render.pyrender import get_pose, PyRenderer"
   ]
  },
  {
   "cell_type": "code",
   "execution_count": 36,
   "metadata": {
    "ExecuteTime": {
     "end_time": "2022-03-17T01:10:32.251424Z",
     "start_time": "2022-03-17T01:10:31.798720Z"
    }
   },
   "outputs": [],
   "source": [
    "renderer = PyRenderer(light_kwargs={'color': np.array([1., 1., 1.]), 'intensity': 9})"
   ]
  },
  {
   "cell_type": "code",
   "execution_count": 37,
   "metadata": {
    "ExecuteTime": {
     "end_time": "2022-03-17T01:10:32.268455Z",
     "start_time": "2022-03-17T01:10:32.253181Z"
    }
   },
   "outputs": [],
   "source": [
    "# compute articulation model\n",
    "mesh_dict[1].visual.face_colors = np.array([84, 220, 83, 255], dtype=np.uint8)\n",
    "joint_type_prob = joint_type_logits.sigmoid().mean()\n",
    "\n",
    "if joint_type_prob.item()< 0.5:\n",
    "    # axis voting\n",
    "    joint_r_axis = (\n",
    "        normalize(joint_param_revolute[:, :, :3], -1)[0].cpu().numpy()\n",
    "    )\n",
    "    joint_r_t = joint_param_revolute[:, :, 3][0].cpu().numpy()\n",
    "    joint_r_p2l_vec = (\n",
    "        normalize(joint_param_revolute[:, :, 4:7], -1)[0].cpu().numpy()\n",
    "    )\n",
    "    joint_r_p2l_dist = joint_param_revolute[:, :, 7][0].cpu().numpy()\n",
    "    p_seg = mobile_points_all[0].cpu().numpy()\n",
    "\n",
    "    pivot_point = p_seg + joint_r_p2l_vec * joint_r_p2l_dist[:, np.newaxis]\n",
    "    (\n",
    "        joint_axis_pred,\n",
    "        pivot_point_pred,\n",
    "        config_pred,\n",
    "    ) = aggregate_dense_prediction_r(\n",
    "        joint_r_axis, pivot_point, joint_r_t, method=\"mean\"\n",
    "    )\n",
    "# prismatic\n",
    "else:\n",
    "    # axis voting\n",
    "    joint_p_axis = (\n",
    "        normalize(joint_param_prismatic[:, :, :3], -1)[0].cpu().numpy()\n",
    "    )\n",
    "    joint_axis_pred = joint_p_axis.mean(0)\n",
    "    joint_p_t = joint_param_prismatic[:, :, 3][0].cpu().numpy()\n",
    "    config_pred = joint_p_t.mean()\n",
    "    \n",
    "    pivot_point_pred = mesh_dict[1].bounds.mean(0)"
   ]
  },
  {
   "cell_type": "code",
   "execution_count": 38,
   "metadata": {
    "ExecuteTime": {
     "end_time": "2022-03-17T01:10:32.299348Z",
     "start_time": "2022-03-17T01:10:32.269856Z"
    }
   },
   "outputs": [
    {
     "data": {
      "text/plain": [
       "<trimesh.Trimesh(vertices.shape=(100, 3), faces.shape=(192, 3))>"
      ]
     },
     "execution_count": 38,
     "metadata": {},
     "output_type": "execute_result"
    }
   ],
   "source": [
    "scene = trimesh.Scene()\n",
    "static_part = mesh_dict[0].copy()\n",
    "mobile_part = mesh_dict[1].copy()\n",
    "scene.add_geometry(static_part)\n",
    "scene.add_geometry(mobile_part)\n",
    "add_r_joint_to_scene(scene, joint_axis_pred, pivot_point_pred, 1.0, recenter=True)"
   ]
  },
  {
   "cell_type": "code",
   "execution_count": 39,
   "metadata": {
    "ExecuteTime": {
     "end_time": "2022-03-17T01:10:32.562232Z",
     "start_time": "2022-03-17T01:10:32.300555Z"
    }
   },
   "outputs": [],
   "source": [
    "# render result mesh\n",
    "camera_pose = get_pose(1.5, ax=np.pi / 3, ay=0, az=np.pi/2)\n",
    "light_pose = get_pose(1.5, ax=np.pi / 3, ay=0, az=np.pi/2)\n",
    "rgb, depth = renderer.render_mesh(scene, camera_pose, light_pose)"
   ]
  },
  {
   "cell_type": "code",
   "execution_count": 19,
   "metadata": {
    "ExecuteTime": {
     "end_time": "2022-03-17T01:10:32.607604Z",
     "start_time": "2022-03-17T01:10:32.563420Z"
    }
   },
   "outputs": [
    {
     "data": {
      "image/png": "[encoded data removed]",
      "text/plain": [
       "<PIL.Image.Image image mode=RGB size=640x480 at 0x7F030C7F4A60>"
      ]
     },
     "execution_count": 19,
     "metadata": {},
     "output_type": "execute_result"
    }
   ],
   "source": [
    "Image.fromarray(rgb)"
   ]
  },
  {
   "cell_type": "code",
   "execution_count": null,
   "metadata": {},
   "outputs": [],
   "source": [
    "from open3d import JVisualizer\n",
    "def visualize_pairs(pcd1, pcd2, pcd3=None):\n",
    "    visualizer = JVisualizer()\n",
    "    coordinate = o3d.geometry.TriangleMesh.create_coordinate_frame()\n",
    "    pcd1.paint_uniform_color([1, 0, 0])\n",
    "    pcd2.paint_uniform_color([0, 0, 1])\n",
    "    if pcd3 == None:\n",
    "        visualizer.add_geometry(pcd1)\n",
    "        visualizer.add_geometry(pcd2)\n",
    "        visualizer.add_geometry(coordinate)\n",
    "    else:\n",
    "        pcd3.paint_uniform_color([0.5, 0.5, 0.5])\n",
    "        visualizer.add_geometry(pcd1)\n",
    "        visualizer.add_geometry(pcd2)\n",
    "        visualizer.add_geometry(pcd3)\n",
    "        visualizer.add_geometry(coordinate)\n",
    "    visualizer.show()"
   ]
  },
  {
   "cell_type": "code",
   "execution_count": 41,
   "metadata": {},
   "outputs": [],
   "source": [
    "def get_arrow(origin=[0, 0, 0], end=None, color=[0, 0, 0]):\n",
    "    \"\"\"\n",
    "    Creates an arrow from an origin point to an end point,\n",
    "    or create an arrow from a vector vec starting from origin.\n",
    "    Args:\n",
    "        - end (): End point. [x,y,z]\n",
    "        - vec (): Vector. [i,j,k]\n",
    "    \"\"\"\n",
    "    vec_Arr = np.array(end) - np.array(origin)\n",
    "    vec_len = np.linalg.norm(vec_Arr)\n",
    "    mesh_arrow = o3d.geometry.TriangleMesh.create_arrow(\n",
    "        cone_height=0.2 * vec_len,\n",
    "        cone_radius=0.06,\n",
    "        cylinder_height=0.8 * vec_len,\n",
    "        cylinder_radius=0.04,\n",
    "    )\n",
    "    mesh_arrow.paint_uniform_color(color)\n",
    "    rot_mat = caculate_align_mat(vec_Arr)\n",
    "    mesh_arrow.rotate(rot_mat, center=np.array([0, 0, 0]))\n",
    "    mesh_arrow.translate(np.array(origin))\n",
    "    return mesh_arrow\n",
    "\n",
    "\n",
    "def get_cross_prod_mat(pVec_Arr):\n",
    "    # pVec_Arr shape (3)\n",
    "    qCross_prod_mat = np.array([\n",
    "        [0, -pVec_Arr[2], pVec_Arr[1]],\n",
    "        [pVec_Arr[2], 0, -pVec_Arr[0]],\n",
    "        [-pVec_Arr[1], pVec_Arr[0], 0],\n",
    "    ])\n",
    "    return qCross_prod_mat\n",
    "\n",
    "\n",
    "def caculate_align_mat(pVec_Arr):\n",
    "    scale = np.linalg.norm(pVec_Arr)\n",
    "    pVec_Arr = pVec_Arr / scale\n",
    "    # must ensure pVec_Arr is also a unit vec.\n",
    "    z_unit_Arr = np.array([0, 0, 1])\n",
    "    z_mat = get_cross_prod_mat(z_unit_Arr)\n",
    "\n",
    "    z_c_vec = np.matmul(z_mat, pVec_Arr)\n",
    "    z_c_vec_mat = get_cross_prod_mat(z_c_vec)\n",
    "    if np.dot(z_unit_Arr, pVec_Arr) == -1:\n",
    "        qTrans_Mat = -np.eye(3, 3)\n",
    "    elif np.dot(z_unit_Arr, pVec_Arr) == 1:   \n",
    "        qTrans_Mat = np.eye(3, 3)\n",
    "    else:\n",
    "        qTrans_Mat = np.eye(3, 3) + z_c_vec_mat + np.matmul(z_c_vec_mat,\n",
    "                                                        z_c_vec_mat)/(1 + np.dot(z_unit_Arr, pVec_Arr))\n",
    "    qTrans_Mat *= scale\n",
    "    return qTrans_Mat"
   ]
  },
  {
   "cell_type": "code",
   "execution_count": null,
   "metadata": {},
   "outputs": [
    {
     "ename": "AttributeError",
     "evalue": "'JVisualizer' object has no attribute 'add_geometrie'",
     "output_type": "error",
     "traceback": [
      "\u001b[0;31m---------------------------------------------------------------------------\u001b[0m",
      "\u001b[0;31mAttributeError\u001b[0m                            Traceback (most recent call last)",
      "\u001b[1;32m/local-scratch/localhome/hja40/Desktop/Research/proj-3dhoi/Ditto/notebooks/demo_depth_map.ipynb Cell 25'\u001b[0m in \u001b[0;36m<cell line: 10>\u001b[0;34m()\u001b[0m\n\u001b[1;32m      <a href='vscode-notebook-cell:/local-scratch/localhome/hja40/Desktop/Research/proj-3dhoi/Ditto/notebooks/demo_depth_map.ipynb#ch0000026?line=6'>7</a>\u001b[0m motion_origin \u001b[39m=\u001b[39m np\u001b[39m.\u001b[39mcross(motion_axis, np\u001b[39m.\u001b[39mcross(pivot_point_pred, motion_axis))\n\u001b[1;32m      <a href='vscode-notebook-cell:/local-scratch/localhome/hja40/Desktop/Research/proj-3dhoi/Ditto/notebooks/demo_depth_map.ipynb#ch0000026?line=8'>9</a>\u001b[0m motion_arrow \u001b[39m=\u001b[39m get_arrow(motion_origin, motion_axis\u001b[39m+\u001b[39mmotion_origin)\n\u001b[0;32m---> <a href='vscode-notebook-cell:/local-scratch/localhome/hja40/Desktop/Research/proj-3dhoi/Ditto/notebooks/demo_depth_map.ipynb#ch0000026?line=9'>10</a>\u001b[0m visualize_pairs(static_part, moving_part, motion_arrow)\n",
      "\u001b[1;32m/local-scratch/localhome/hja40/Desktop/Research/proj-3dhoi/Ditto/notebooks/demo_depth_map.ipynb Cell 23'\u001b[0m in \u001b[0;36mvisualize_pairs\u001b[0;34m(pcd1, pcd2, pcd3)\u001b[0m\n\u001b[1;32m     <a href='vscode-notebook-cell:/local-scratch/localhome/hja40/Desktop/Research/proj-3dhoi/Ditto/notebooks/demo_depth_map.ipynb#ch0000022?line=10'>11</a>\u001b[0m \u001b[39melse\u001b[39;00m:\n\u001b[1;32m     <a href='vscode-notebook-cell:/local-scratch/localhome/hja40/Desktop/Research/proj-3dhoi/Ditto/notebooks/demo_depth_map.ipynb#ch0000022?line=11'>12</a>\u001b[0m     pcd3\u001b[39m.\u001b[39mpaint_uniform_color([\u001b[39m0.5\u001b[39m, \u001b[39m0.5\u001b[39m, \u001b[39m0.5\u001b[39m])\n\u001b[0;32m---> <a href='vscode-notebook-cell:/local-scratch/localhome/hja40/Desktop/Research/proj-3dhoi/Ditto/notebooks/demo_depth_map.ipynb#ch0000022?line=12'>13</a>\u001b[0m     visualizer\u001b[39m.\u001b[39;49madd_geometrie(pcd1)\n\u001b[1;32m     <a href='vscode-notebook-cell:/local-scratch/localhome/hja40/Desktop/Research/proj-3dhoi/Ditto/notebooks/demo_depth_map.ipynb#ch0000022?line=13'>14</a>\u001b[0m     visualizer\u001b[39m.\u001b[39madd_geometrie(pcd2)\n\u001b[1;32m     <a href='vscode-notebook-cell:/local-scratch/localhome/hja40/Desktop/Research/proj-3dhoi/Ditto/notebooks/demo_depth_map.ipynb#ch0000022?line=14'>15</a>\u001b[0m     visualizer\u001b[39m.\u001b[39madd_geometrie(pcd3)\n",
      "\u001b[0;31mAttributeError\u001b[0m: 'JVisualizer' object has no attribute 'add_geometrie'"
     ]
    },
    {
     "ename": "",
     "evalue": "",
     "output_type": "error",
     "traceback": [
      "\u001b[1;31mnotebook controller is DISPOSED. \n",
      "View Jupyter <a href='command:jupyter.viewOutput'>log</a> for further details."
     ]
    }
   ],
   "source": [
    "static_part = mesh_dict[0].as_open3d\n",
    "moving_part = mesh_dict[1].as_open3d\n",
    "\n",
    "motion_state = config_pred\n",
    "motion_axis = joint_axis_pred\n",
    "# motion_origin = pivot_point_pred\n",
    "motion_origin = np.cross(motion_axis, np.cross(pivot_point_pred, motion_axis))\n",
    "\n",
    "motion_arrow = get_arrow(motion_origin, motion_axis+motion_origin)\n",
    "visualize_pairs(static_part, moving_part, motion_arrow)\n"
   ]
  }
 ],
 "metadata": {
  "kernelspec": {
   "display_name": "Python [conda env:Ditto]",
   "language": "python",
   "name": "conda-env-Ditto-py"
  },
  "language_info": {
   "codemirror_mode": {
    "name": "ipython",
    "version": 3
   },
   "file_extension": ".py",
   "mimetype": "text/x-python",
   "name": "python",
   "nbconvert_exporter": "python",
   "pygments_lexer": "ipython3",
   "version": "3.8.12"
  }
 },
 "nbformat": 4,
 "nbformat_minor": 4
}
